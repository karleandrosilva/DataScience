{
 "cells": [
  {
   "cell_type": "code",
   "execution_count": 15,
   "id": "e995611e-0ef1-4f66-a4d6-358ea020db42",
   "metadata": {},
   "outputs": [],
   "source": [
    "import numpy as np\n",
    "notas = np.array([4.9, 6.5, 3.2, 6.7])"
   ]
  },
  {
   "cell_type": "code",
   "execution_count": 16,
   "id": "e642d780-c7f3-4b14-9eea-1bc101e92c02",
   "metadata": {},
   "outputs": [
    {
     "name": "stdout",
     "output_type": "stream",
     "text": [
      "[False  True False  True]\n"
     ]
    }
   ],
   "source": [
    "mask_notas = notas >= 5 # -> mostra True para os alunos que tiraram maior ou igual a 5 \n",
    "print(mask_notas)"
   ]
  },
  {
   "cell_type": "code",
   "execution_count": null,
   "id": "738cddc5-2fb9-402d-9f00-402cad3b1374",
   "metadata": {},
   "outputs": [],
   "source": []
  }
 ],
 "metadata": {
  "kernelspec": {
   "display_name": "Python 3 (ipykernel)",
   "language": "python",
   "name": "python3"
  },
  "language_info": {
   "codemirror_mode": {
    "name": "ipython",
    "version": 3
   },
   "file_extension": ".py",
   "mimetype": "text/x-python",
   "name": "python",
   "nbconvert_exporter": "python",
   "pygments_lexer": "ipython3",
   "version": "3.11.1"
  }
 },
 "nbformat": 4,
 "nbformat_minor": 5
}
