{
 "cells": [
  {
   "cell_type": "code",
   "execution_count": 6,
   "id": "1ef20a0c-cd3f-4955-a668-165ae0dbbc3a",
   "metadata": {},
   "outputs": [],
   "source": [
    "import pandas as pd\n",
    "\n",
    "notas = {'Tiago' : 8, 'Guilherme' : 9.5, 'Juca' : 6.2}\n"
   ]
  },
  {
   "cell_type": "code",
   "execution_count": 9,
   "id": "1774cc97-7271-4f36-85d2-77081599f866",
   "metadata": {},
   "outputs": [],
   "source": [
    "serie_notas = pd.Series(notas)"
   ]
  },
  {
   "cell_type": "code",
   "execution_count": 8,
   "id": "366219ca-0abc-47f6-bf52-fe82b75c387e",
   "metadata": {},
   "outputs": [
    {
     "name": "stdout",
     "output_type": "stream",
     "text": [
      "Tiago        8.0\n",
      "Guilherme    9.5\n",
      "Juca         6.2\n",
      "dtype: float64\n"
     ]
    }
   ],
   "source": [
    "print(serie_notas) # elementos em lista com a chave em vez do índice"
   ]
  },
  {
   "cell_type": "code",
   "execution_count": 11,
   "id": "0547f44b-8c58-4022-8231-d139f5eb6f3b",
   "metadata": {},
   "outputs": [
    {
     "name": "stdout",
     "output_type": "stream",
     "text": [
      "8.0\n"
     ]
    }
   ],
   "source": [
    "print(serie_notas['Tiago']) # Para acessar a nota do aluno, pelo nome"
   ]
  },
  {
   "cell_type": "code",
   "execution_count": 14,
   "id": "37e88f94-eddd-4736-a337-534e863ecc4f",
   "metadata": {},
   "outputs": [
    {
     "name": "stdout",
     "output_type": "stream",
     "text": [
      "7.8999999999999995\n"
     ]
    }
   ],
   "source": [
    "print(serie_notas.mean()) # media dos alunos"
   ]
  },
  {
   "cell_type": "code",
   "execution_count": 16,
   "id": "241a08e7-a413-41bb-81b3-26b1803021ca",
   "metadata": {},
   "outputs": [
    {
     "name": "stdout",
     "output_type": "stream",
     "text": [
      "8.0\n"
     ]
    }
   ],
   "source": [
    "print(serie_notas.median()) # mediana das notas"
   ]
  },
  {
   "cell_type": "code",
   "execution_count": 17,
   "id": "7466a403-6fac-432f-b656-cf42cd6deb5f",
   "metadata": {},
   "outputs": [
    {
     "name": "stdout",
     "output_type": "stream",
     "text": [
      "count    3.000000\n",
      "mean     7.900000\n",
      "std      1.652271\n",
      "min      6.200000\n",
      "25%      7.100000\n",
      "50%      8.000000\n",
      "75%      8.750000\n",
      "max      9.500000\n",
      "dtype: float64\n"
     ]
    }
   ],
   "source": [
    "print(serie_notas.describe()) # descrição total"
   ]
  },
  {
   "cell_type": "code",
   "execution_count": null,
   "id": "dca7b8d7-d76d-4ce4-a937-f5484d657cf4",
   "metadata": {},
   "outputs": [],
   "source": []
  }
 ],
 "metadata": {
  "kernelspec": {
   "display_name": "Python 3 (ipykernel)",
   "language": "python",
   "name": "python3"
  },
  "language_info": {
   "codemirror_mode": {
    "name": "ipython",
    "version": 3
   },
   "file_extension": ".py",
   "mimetype": "text/x-python",
   "name": "python",
   "nbconvert_exporter": "python",
   "pygments_lexer": "ipython3",
   "version": "3.11.1"
  }
 },
 "nbformat": 4,
 "nbformat_minor": 5
}
