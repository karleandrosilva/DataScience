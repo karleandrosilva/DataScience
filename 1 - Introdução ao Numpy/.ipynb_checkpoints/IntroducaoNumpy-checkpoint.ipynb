{
 "cells": [
  {
   "cell_type": "code",
   "execution_count": 1,
   "id": "77418b45-1d99-4dc8-995d-2a205e1db680",
   "metadata": {},
   "outputs": [],
   "source": [
    "import numpy as np"
   ]
  },
  {
   "cell_type": "code",
   "execution_count": 7,
   "id": "d893c131-9c05-4c50-8cb4-134faf68ca50",
   "metadata": {},
   "outputs": [
    {
     "name": "stdout",
     "output_type": "stream",
     "text": [
      "<class 'list'>\n",
      "<class 'numpy.ndarray'>\n",
      "[1, 2, 3, 4, 5, 6]\n",
      "[1 2 3 4 5 6]\n",
      "[9 2 3 4 5 6]\n"
     ]
    }
   ],
   "source": [
    "lista = [1, 2, 3, 4, 5, 6]\n",
    "\n",
    "array = np.array(lista) # para declarar \n",
    "\n",
    "print(type(lista))\n",
    "print(type(array))\n",
    "\n",
    "print(lista)\n",
    "print(array)\n",
    "\n",
    "array[0] = 9\n",
    "print(array)"
   ]
  },
  {
   "cell_type": "code",
   "execution_count": 5,
   "id": "e6839ac3-a07c-40c7-b878-c361a8d4ecaa",
   "metadata": {},
   "outputs": [
    {
     "name": "stdout",
     "output_type": "stream",
     "text": [
      "[0. 0. 0. 0. 0. 0. 0. 0. 0. 0.]\n"
     ]
    }
   ],
   "source": [
    "arr_zeros = np.zeros(10) # adiciona 10 zeros em uma array\n",
    "\n",
    "print(arr_zeros)"
   ]
  },
  {
   "cell_type": "code",
   "execution_count": 8,
   "id": "d5d63ea5-9225-4e48-9760-acee1ce21f42",
   "metadata": {},
   "outputs": [
    {
     "name": "stdout",
     "output_type": "stream",
     "text": [
      "[[0. 0. 0.]\n",
      " [0. 0. 0.]\n",
      " [0. 0. 0.]\n",
      " [0. 0. 0.]\n",
      " [0. 0. 0.]]\n"
     ]
    }
   ],
   "source": [
    "## MATRIZES \n",
    "\n",
    "matriz_zeros = np.zeros((5, 3))\n",
    "print(matriz_zeros)"
   ]
  },
  {
   "cell_type": "code",
   "execution_count": 32,
   "id": "a3f1e159-06d9-45cf-b545-e7f615dd9a7e",
   "metadata": {},
   "outputs": [
    {
     "name": "stdin",
     "output_type": "stream",
     "text": [
      "Informe a nota 1: 10\n",
      "Informe a nota 2: 3.5\n",
      "Informe a nota 3: 7.6\n",
      "Informe a nota 4: 4.5\n",
      "Informe a nota 5: 9.5\n"
     ]
    },
    {
     "name": "stdout",
     "output_type": "stream",
     "text": [
      "[10.0, 3.5, 7.6, 4.5, 9.5]\n",
      "[10.   3.5  7.6  4.5  9.5]\n",
      "A maior nota: 10.0\n",
      "A menor nota: 3.5\n",
      "A media das notas: 7.02\n",
      "O desvio padrão das notas: 2.61\n",
      "A posição maior das notas: 0\n",
      "A posição menor das notas: 1\n"
     ]
    }
   ],
   "source": [
    "## NOTAS DE ALUNOS\n",
    "\n",
    "notas_alunos = []\n",
    "\n",
    "for i in range(0, 5):\n",
    "    notas = float(input(f'Informe a nota {i+1}:'))\n",
    "    notas_alunos.append(notas)\n",
    "\n",
    "print(notas_alunos)\n",
    "\n",
    "notas = np.array(notas_alunos)\n",
    "\n",
    "print(notas)\n",
    "\n",
    "print(f'A maior nota: {notas.max()}') # max -> maior\n",
    "print(f'A menor nota: {notas.min()}') # min -> minimo\n",
    "print(f'A media das notas: {notas.mean():.2f}') # mean -> media\n",
    "\n",
    "print(f'O desvio padrão das notas: {notas.std():.2f}') # std -> desvio padrão\n",
    "\n",
    "print(f'A posição maior das notas: {notas.argmax()}') # argmax -> psição do maior\n",
    "print(f'A posição menor das notas: {notas.argmin()}') # argmin -> psição do menor\n"
   ]
  },
  {
   "cell_type": "code",
   "execution_count": null,
   "id": "836ab8d0-4f26-4827-9aa3-466ba753cca9",
   "metadata": {},
   "outputs": [],
   "source": []
  }
 ],
 "metadata": {
  "kernelspec": {
   "display_name": "Python 3 (ipykernel)",
   "language": "python",
   "name": "python3"
  },
  "language_info": {
   "codemirror_mode": {
    "name": "ipython",
    "version": 3
   },
   "file_extension": ".py",
   "mimetype": "text/x-python",
   "name": "python",
   "nbconvert_exporter": "python",
   "pygments_lexer": "ipython3",
   "version": "3.11.1"
  }
 },
 "nbformat": 4,
 "nbformat_minor": 5
}
