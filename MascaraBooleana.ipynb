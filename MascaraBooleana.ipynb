{
 "cells": [
  {
   "cell_type": "code",
   "execution_count": 10,
   "id": "4471529b-1d90-4fe6-b9ad-a6b4eeae69e7",
   "metadata": {},
   "outputs": [],
   "source": [
    "import numpy as np\n",
    "\n",
    "is_covid_positive = np.array(['Yes', 'No', 'No', 'Yes', 'Yes', 'No']) # -> declaração"
   ]
  },
  {
   "cell_type": "code",
   "execution_count": 9,
   "id": "e7fbbd1d-24b1-4256-9af8-3b3e9cad0a92",
   "metadata": {},
   "outputs": [
    {
     "name": "stdout",
     "output_type": "stream",
     "text": [
      "['Yes' 'No' 'No' 'Yes' 'Yes' 'No']\n"
     ]
    }
   ],
   "source": [
    "print(is_covid_positive)"
   ]
  },
  {
   "cell_type": "code",
   "execution_count": 12,
   "id": "0a457de6-bc6b-4f1c-b811-a9c101a3153d",
   "metadata": {},
   "outputs": [],
   "source": [
    "mask = (is_covid_positive == 'Yes')"
   ]
  },
  {
   "cell_type": "code",
   "execution_count": 13,
   "id": "d5f41919-4aa8-49a5-a3d1-6b9587a951fe",
   "metadata": {},
   "outputs": [
    {
     "name": "stdout",
     "output_type": "stream",
     "text": [
      "[ True False False  True  True False]\n"
     ]
    }
   ],
   "source": [
    "print(mask)"
   ]
  },
  {
   "cell_type": "code",
   "execution_count": 15,
   "id": "ad1f8942-d702-4830-b067-46cfd02055a2",
   "metadata": {},
   "outputs": [
    {
     "name": "stdout",
     "output_type": "stream",
     "text": [
      "Yes\n",
      "['Yes' 'Yes' 'Yes']\n"
     ]
    }
   ],
   "source": [
    "print(is_covid_positive[0]) \n",
    "print(is_covid_positive[mask]) # -> mostra apenas os elementos que passaram na comparação"
   ]
  },
  {
   "cell_type": "code",
   "execution_count": 18,
   "id": "617a1bb6-567d-41d2-a602-ef82c98403c1",
   "metadata": {},
   "outputs": [
    {
     "name": "stdout",
     "output_type": "stream",
     "text": [
      "['C19' 'No' 'No' 'C19' 'C19' 'No']\n"
     ]
    }
   ],
   "source": [
    "is_covid_positive[mask] = 'C19' # -> substitui Yes por C19\n",
    "print(is_covid_positive) "
   ]
  },
  {
   "cell_type": "code",
   "execution_count": null,
   "id": "8c204857-9a29-48f3-be8a-d727353b2363",
   "metadata": {},
   "outputs": [],
   "source": []
  }
 ],
 "metadata": {
  "kernelspec": {
   "display_name": "Python 3 (ipykernel)",
   "language": "python",
   "name": "python3"
  },
  "language_info": {
   "codemirror_mode": {
    "name": "ipython",
    "version": 3
   },
   "file_extension": ".py",
   "mimetype": "text/x-python",
   "name": "python",
   "nbconvert_exporter": "python",
   "pygments_lexer": "ipython3",
   "version": "3.11.1"
  }
 },
 "nbformat": 4,
 "nbformat_minor": 5
}
