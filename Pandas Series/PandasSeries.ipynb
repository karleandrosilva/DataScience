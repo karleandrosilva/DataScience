{
 "cells": [
  {
   "cell_type": "code",
   "execution_count": 3,
   "id": "878fce1c-d57b-4e0e-842d-7557707bfa84",
   "metadata": {},
   "outputs": [],
   "source": [
    "import pandas as pd\n",
    "\n",
    "lista = [23, 34, 45, 56, 67]\n",
    "serie_pandas = pd.Series(lista)"
   ]
  },
  {
   "cell_type": "code",
   "execution_count": 4,
   "id": "50648898-b26d-44f3-aaf4-284778669ccf",
   "metadata": {},
   "outputs": [
    {
     "name": "stdout",
     "output_type": "stream",
     "text": [
      "0    23\n",
      "1    34\n",
      "2    45\n",
      "3    56\n",
      "4    67\n",
      "dtype: int64\n"
     ]
    }
   ],
   "source": [
    "print(serie_pandas) # elementos em lista com índices"
   ]
  },
  {
   "cell_type": "code",
   "execution_count": 5,
   "id": "0ea716bb-9095-44bb-a7f6-e436211a9018",
   "metadata": {},
   "outputs": [
    {
     "name": "stdout",
     "output_type": "stream",
     "text": [
      "23\n"
     ]
    }
   ],
   "source": [
    "print(serie_pandas[0]) # mostra o número que está na posição"
   ]
  },
  {
   "cell_type": "code",
   "execution_count": null,
   "id": "7704c607-2a3d-452f-aea1-79734f1ac783",
   "metadata": {},
   "outputs": [],
   "source": []
  }
 ],
 "metadata": {
  "kernelspec": {
   "display_name": "Python 3 (ipykernel)",
   "language": "python",
   "name": "python3"
  },
  "language_info": {
   "codemirror_mode": {
    "name": "ipython",
    "version": 3
   },
   "file_extension": ".py",
   "mimetype": "text/x-python",
   "name": "python",
   "nbconvert_exporter": "python",
   "pygments_lexer": "ipython3",
   "version": "3.11.1"
  }
 },
 "nbformat": 4,
 "nbformat_minor": 5
}
